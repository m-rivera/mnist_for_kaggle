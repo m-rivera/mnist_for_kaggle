{
 "cells": [
  {
   "cell_type": "code",
   "execution_count": 1,
   "metadata": {},
   "outputs": [
    {
     "name": "stdout",
     "output_type": "stream",
     "text": [
      "WARNING:tensorflow:From /usr/local/lib/python3.4/dist-packages/tensorflow/python/ops/init_ops.py:1251: calling VarianceScaling.__init__ (from tensorflow.python.ops.init_ops) with dtype is deprecated and will be removed in a future version.\n",
      "Instructions for updating:\n",
      "Call initializer instance with the dtype argument instead of passing it to the constructor\n",
      "Epoch 1/10\n",
      "42000/42000 [==============================] - 2s 38us/sample - loss: 0.3421 - acc: 0.9029\n",
      "Epoch 2/10\n",
      "42000/42000 [==============================] - 2s 36us/sample - loss: 0.1690 - acc: 0.9508\n",
      "Epoch 3/10\n",
      "42000/42000 [==============================] - 1s 35us/sample - loss: 0.1245 - acc: 0.9631\n",
      "Epoch 4/10\n",
      "42000/42000 [==============================] - 2s 37us/sample - loss: 0.0985 - acc: 0.9710\n",
      "Epoch 5/10\n",
      "42000/42000 [==============================] - 1s 34us/sample - loss: 0.0813 - acc: 0.9753\n",
      "Epoch 6/10\n",
      "42000/42000 [==============================] - 2s 42us/sample - loss: 0.0678 - acc: 0.9797\n",
      "Epoch 7/10\n",
      "42000/42000 [==============================] - 2s 42us/sample - loss: 0.0581 - acc: 0.9824\n",
      "Epoch 8/10\n",
      "42000/42000 [==============================] - 2s 38us/sample - loss: 0.0500 - acc: 0.9850\n",
      "Epoch 9/10\n",
      "42000/42000 [==============================] - 2s 37us/sample - loss: 0.0423 - acc: 0.9874\n",
      "Epoch 10/10\n",
      "42000/42000 [==============================] - 2s 39us/sample - loss: 0.0357 - acc: 0.9891\n"
     ]
    }
   ],
   "source": [
    "#!/usr/bin/env python\n",
    "\"\"\"Image recognition project with MNIST\"\"\"\n",
    "import pandas as pd\n",
    "import tensorflow as tf\n",
    "import tensorflow.keras as keras\n",
    "import matplotlib.pyplot as plt\n",
    "\n",
    "# load data\n",
    "train = pd.read_csv(\"train.csv\")\n",
    "test = pd.read_csv(\"test.csv\")/255.0\n",
    "\n",
    "# Separate\n",
    "y_train = train[\"label\"]\n",
    "x_train = train.drop(labels=[\"label\"],axis = 1)/255.0\n",
    "\n",
    "# Reshape\n",
    "x_train = x_train.values.reshape(-1,28,28)\n",
    "test_input = test.values.reshape(-1,28,28)\n",
    "\n",
    "# set up model\n",
    "model = keras.Sequential([\n",
    "    keras.layers.Flatten(input_shape=(28,28)),\n",
    "    keras.layers.Dense(64, activation='relu'),\n",
    "    keras.layers.Dense(10, activation='softmax')])\n",
    "\n",
    "# compile\n",
    "model.compile(optimizer='adam',\n",
    "        loss='sparse_categorical_crossentropy',\n",
    "        metrics=['accuracy'])\n",
    "\n",
    "train_dataset = tf.data.Dataset.from_tensor_slices((x_train,y_train))\n",
    "\n",
    "# fit\n",
    "model.fit(x_train, y_train, epochs=10)\n",
    "\n",
    "# predict\n",
    "predictions = model.predict(test_input)"
   ]
  },
  {
   "cell_type": "code",
   "execution_count": 10,
   "metadata": {},
   "outputs": [
    {
     "name": "stdout",
     "output_type": "stream",
     "text": [
      "3\n",
      "[9.8135056e-10 2.5834477e-06 1.2347576e-05 9.9920756e-01 2.7632309e-14\n",
      " 5.7621623e-06 1.5747022e-11 2.3018134e-11 7.6923514e-04 2.4728640e-06]\n"
     ]
    },
    {
     "data": {
      "text/plain": [
       "<matplotlib.image.AxesImage at 0x7f3e90486978>"
      ]
     },
     "execution_count": 10,
     "metadata": {},
     "output_type": "execute_result"
    },
    {
     "data": {
      "image/png": "[encoded data removed]",
      "text/plain": [
       "<matplotlib.figure.Figure at 0x7f3e9057b470>"
      ]
     },
     "metadata": {},
     "output_type": "display_data"
    }
   ],
   "source": [
    "import numpy as np\n",
    "print(np.argmax(predictions[4]))\n",
    "print(predictions[4])\n",
    "plt.imshow(test_input[4])"
   ]
  },
  {
   "cell_type": "code",
   "execution_count": 35,
   "metadata": {},
   "outputs": [],
   "source": [
    "out_nums = np.array([np.argmax(i) for i in predictions])\n",
    "image_ids = np.arange(1,len(out_nums)+1)\n",
    "out_array = np.array([image_ids,out_nums]).T\n",
    "\n",
    "np.savetxt(\"foo.csv\",out_array,delimiter=\",\",fmt=\"%5d\")"
   ]
  },
  {
   "cell_type": "code",
   "execution_count": null,
   "metadata": {},
   "outputs": [],
   "source": []
  }
 ],
 "metadata": {
  "kernelspec": {
   "display_name": "Python 3",
   "language": "python",
   "name": "python3"
  },
  "language_info": {
   "codemirror_mode": {
    "name": "ipython",
    "version": 3
   },
   "file_extension": ".py",
   "mimetype": "text/x-python",
   "name": "python",
   "nbconvert_exporter": "python",
   "pygments_lexer": "ipython3",
   "version": "3.4.3"
  }
 },
 "nbformat": 4,
 "nbformat_minor": 2
}
